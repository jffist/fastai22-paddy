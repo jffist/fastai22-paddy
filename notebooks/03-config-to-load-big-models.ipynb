{
 "cells": [
  {
   "cell_type": "markdown",
   "id": "07410b76-347b-4810-bf0a-a6061d502037",
   "metadata": {},
   "source": [
    "# What & Why\n",
    "This notebook is inspired by the [third part](https://www.kaggle.com/code/jhoward/scaling-up-road-to-the-top-part-3) of Jeremy's solution of [Paddy Doctor: Paddy Disease Classification](https://www.kaggle.com/competitions/paddy-disease-classification) competition.\n",
    "\n",
    "It is used to find batch size, batch accumulation, and image size configuration to fit the model into GPU memory.\n",
    "In the current implementation, the search still needs to be manual because if the function to check size fails with OOM on GPU, then calling garbage collection and freeing CUDA cache don't free memory, and you need to restart the notebook to continue."
   ]
  },
  {
   "cell_type": "markdown",
   "id": "59bb9b7c-2d5c-4207-89fc-4b23e6cf9536",
   "metadata": {},
   "source": [
    "# Python packages setup & data download\n",
    "\n",
    "This part is copied from the [01-baseline.ipynb](./01-baseline.ipynb)"
   ]
  },
  {
   "cell_type": "code",
   "execution_count": 1,
   "id": "886da8f1-e907-48ab-96e4-abc172a9c4b8",
   "metadata": {},
   "outputs": [],
   "source": [
    "USE_LATEST_PIP_PACKAGES = True"
   ]
  },
  {
   "cell_type": "code",
   "execution_count": 2,
   "id": "62bb8724-d31b-47b4-9216-01038bd1da22",
   "metadata": {},
   "outputs": [
    {
     "name": "stdout",
     "output_type": "stream",
     "text": [
      "Running notebook in Paperspace mode\n"
     ]
    }
   ],
   "source": [
    "import os\n",
    "is_kaggle = os.environ.get('KAGGLE_KERNEL_RUN_TYPE', '')\n",
    "if is_kaggle:\n",
    "    print(\"Running notebook in kaggle mode\")\n",
    "else:\n",
    "    print(\"Running notebook in Paperspace mode\")"
   ]
  },
  {
   "cell_type": "code",
   "execution_count": 3,
   "id": "93bd6651-5b34-41fe-be8f-0f2146110c75",
   "metadata": {},
   "outputs": [],
   "source": [
    "# install Jeremy's fastkaggle package with helpers for Kaggle API\n",
    "try:\n",
    "    import fastkaggle\n",
    "except ModuleNotFoundError:\n",
    "    if is_kaggle:\n",
    "        print(\"installing fastkaggle into system folder on Kaggle\")\n",
    "        !pip install -q fastkaggle\n",
    "    else:\n",
    "        print(\"installing fastkaggle into user (/root/.local/) folder on Paperspace\")\n",
    "        # we are installing into local folder\n",
    "        !pip install --user -q fastkaggle\n",
    "\n",
    "from fastkaggle import setup_comp, push_notebook"
   ]
  },
  {
   "cell_type": "code",
   "execution_count": 4,
   "id": "a46d7a68-99a7-4069-ae53-2156c3a09470",
   "metadata": {},
   "outputs": [],
   "source": [
    "# Jeremy's philosophy is to always work on latest versions of all packages \n",
    "# and don't bother with creating and tracking Python environments with the fixed set of packages\n",
    "# I still like to have full replica of the env, so plan to add it as a fallback\n",
    "if not is_kaggle:\n",
    "    if USE_LATEST_PIP_PACKAGES:\n",
    "        !pip install --user -Uqq timm==0.6.13 huggingface_hub fastai pynvml\n",
    "    else:\n",
    "        !pip install --user  --no-cache-dir -r ../requirements.txt"
   ]
  },
  {
   "cell_type": "markdown",
   "id": "9d9c5f1f-d854-47d6-9b27-0595e170240a",
   "metadata": {},
   "source": [
    "## Get competition data"
   ]
  },
  {
   "cell_type": "code",
   "execution_count": 5,
   "id": "f572ec24-7527-4fa3-af50-c656659942c5",
   "metadata": {},
   "outputs": [],
   "source": [
    "# setup_comp downloads competition dataset archive into the current folder and extracts into subfolder\n",
    "# it also pip-installs libraries when if we are on Kaggle\n",
    "COMPETITION_NAME = 'paddy-disease-classification'\n",
    "\n",
    "path = setup_comp(COMPETITION_NAME, install='timm huggingface_hub fastai')"
   ]
  },
  {
   "cell_type": "code",
   "execution_count": 6,
   "id": "4ebd8e46-048c-45fd-b9a7-b855145eab30",
   "metadata": {},
   "outputs": [],
   "source": [
    "import pandas as pd"
   ]
  },
  {
   "cell_type": "code",
   "execution_count": 7,
   "id": "42eff9e1-38b1-40b9-9570-397e9c3c4fae",
   "metadata": {},
   "outputs": [],
   "source": [
    "# import fastai only after we updated all packages on Kaggle or locally\n",
    "from fastai.vision.all import *\n",
    "from fastcore.parallel import *\n",
    "set_seed(42)"
   ]
  },
  {
   "cell_type": "code",
   "execution_count": 8,
   "id": "50957138-406d-43e0-8350-ea62b6d6cbd8",
   "metadata": {},
   "outputs": [
    {
     "data": {
      "text/plain": [
       "(#4) [Path('paddy-disease-classification/sample_submission.csv'),Path('paddy-disease-classification/test_images'),Path('paddy-disease-classification/train_images'),Path('paddy-disease-classification/train.csv')]"
      ]
     },
     "execution_count": 8,
     "metadata": {},
     "output_type": "execute_result"
    }
   ],
   "source": [
    "path.ls()"
   ]
  },
  {
   "cell_type": "code",
   "execution_count": 9,
   "id": "8598194d-b691-4e1c-aeeb-9e87aff52e7f",
   "metadata": {},
   "outputs": [],
   "source": [
    "SUBM_FILES = get_image_files(path/'test_images').sorted()"
   ]
  },
  {
   "cell_type": "code",
   "execution_count": 10,
   "id": "3a0771d9-5935-4bc0-aaa4-3644be12907d",
   "metadata": {},
   "outputs": [
    {
     "data": {
      "text/plain": [
       "(#3469) [Path('paddy-disease-classification/test_images/200001.jpg'),Path('paddy-disease-classification/test_images/200002.jpg'),Path('paddy-disease-classification/test_images/200003.jpg'),Path('paddy-disease-classification/test_images/200004.jpg'),Path('paddy-disease-classification/test_images/200005.jpg'),Path('paddy-disease-classification/test_images/200006.jpg'),Path('paddy-disease-classification/test_images/200007.jpg'),Path('paddy-disease-classification/test_images/200008.jpg'),Path('paddy-disease-classification/test_images/200009.jpg'),Path('paddy-disease-classification/test_images/200010.jpg')...]"
      ]
     },
     "execution_count": 10,
     "metadata": {},
     "output_type": "execute_result"
    }
   ],
   "source": [
    "SUBM_FILES"
   ]
  },
  {
   "cell_type": "markdown",
   "id": "10842b05-515e-4795-8497-21a730101602",
   "metadata": {},
   "source": [
    "# Setup experiment"
   ]
  },
  {
   "cell_type": "code",
   "execution_count": 11,
   "id": "7f2b135a-90a1-47da-8534-7a248c3520b5",
   "metadata": {},
   "outputs": [],
   "source": [
    "import gc\n",
    "import re"
   ]
  },
  {
   "cell_type": "code",
   "execution_count": 12,
   "id": "c8eb6597-1073-4313-9391-d03752d5b1a8",
   "metadata": {},
   "outputs": [
    {
     "data": {
      "text/plain": [
       "normal                      1764\n",
       "blast                       1738\n",
       "hispa                       1594\n",
       "dead_heart                  1442\n",
       "tungro                      1088\n",
       "brown_spot                   965\n",
       "downy_mildew                 620\n",
       "bacterial_leaf_blight        479\n",
       "bacterial_leaf_streak        380\n",
       "bacterial_panicle_blight     337\n",
       "Name: label, dtype: int64"
      ]
     },
     "execution_count": 12,
     "metadata": {},
     "output_type": "execute_result"
    }
   ],
   "source": [
    "df = pd.read_csv(path / \"train.csv\")\n",
    "df.label.value_counts()"
   ]
  },
  {
   "cell_type": "markdown",
   "id": "aacb2765-e1bd-497d-895d-06d6f10f688a",
   "metadata": {},
   "source": [
    "Our goal is to check if model can fit the GPU, so we don't care about the actual trainig and thus will use only small portion of data.\n",
    "Interestingly,  I would probably go with random sample, but Jeremy uses the smallest subclass."
   ]
  },
  {
   "cell_type": "code",
   "execution_count": 13,
   "id": "bcfeec58-a2c0-4f71-9c14-90d9a0486656",
   "metadata": {},
   "outputs": [],
   "source": [
    "trn_path = path / \"train_images\" / \"bacterial_panicle_blight\" "
   ]
  },
  {
   "cell_type": "code",
   "execution_count": 14,
   "id": "f4ffc45a-52f7-4186-8e3d-9ff7d8ff3215",
   "metadata": {},
   "outputs": [
    {
     "data": {
      "text/plain": [
       "(#337) [Path('paddy-disease-classification/train_images/bacterial_panicle_blight/109162.jpg'),Path('paddy-disease-classification/train_images/bacterial_panicle_blight/109183.jpg'),Path('paddy-disease-classification/train_images/bacterial_panicle_blight/101765.jpg'),Path('paddy-disease-classification/train_images/bacterial_panicle_blight/101592.jpg'),Path('paddy-disease-classification/train_images/bacterial_panicle_blight/104770.jpg'),Path('paddy-disease-classification/train_images/bacterial_panicle_blight/110190.jpg'),Path('paddy-disease-classification/train_images/bacterial_panicle_blight/106643.jpg'),Path('paddy-disease-classification/train_images/bacterial_panicle_blight/104269.jpg'),Path('paddy-disease-classification/train_images/bacterial_panicle_blight/108023.jpg'),Path('paddy-disease-classification/train_images/bacterial_panicle_blight/107676.jpg')...]"
      ]
     },
     "execution_count": 14,
     "metadata": {},
     "output_type": "execute_result"
    }
   ],
   "source": [
    "get_image_files(trn_path)"
   ]
  },
  {
   "cell_type": "code",
   "execution_count": 15,
   "id": "47c1c24f-ac45-49eb-8d1b-7a9d3f291148",
   "metadata": {},
   "outputs": [],
   "source": [
    "# questions\n",
    "#  - why batch size 64? \n",
    "#  - how do we run learning rate finder with gradient accumulation?\n",
    "#  - we probably do need to run LR finder when changing architecture\n",
    "#  - why don't we use smaller batch size instead of gradient accumulation?\n",
    "\n",
    "LEARNING_RATE = 0.01"
   ]
  },
  {
   "cell_type": "code",
   "execution_count": 16,
   "id": "3c85e21d-c7ad-49c0-8179-1e533c6e33d5",
   "metadata": {},
   "outputs": [],
   "source": [
    "def report_and_free_gpu(verbose=False):\n",
    "    gpu_info = torch.cuda.list_gpu_processes()\n",
    "    gc.collect()\n",
    "    if verbose:\n",
    "        print(\"Reported:\", gpu_info)\n",
    "    if gpu_info.find(\"no processes are running\") >0:\n",
    "        return 0\n",
    "    used_mb = int(np.round(float(re.search(r\"uses\\s+(\\d+.\\d*)\\s*MB\", gpu_info).group(1)),0))\n",
    "    torch.cuda.empty_cache()\n",
    "    if verbose:\n",
    "        print(f\"Extracted usage: {used_mb} MB\")\n",
    "    return used_mb"
   ]
  },
  {
   "cell_type": "code",
   "execution_count": 17,
   "id": "02468ef5-1d9e-4d19-b809-35627a48d999",
   "metadata": {},
   "outputs": [
    {
     "data": {
      "text/plain": [
       "0"
      ]
     },
     "execution_count": 17,
     "metadata": {},
     "output_type": "execute_result"
    }
   ],
   "source": [
    "report_and_free_gpu()"
   ]
  },
  {
   "cell_type": "code",
   "execution_count": 18,
   "id": "bc18594f-6dde-41c4-8ca6-26f6f5b39dd6",
   "metadata": {},
   "outputs": [],
   "source": [
    "def check_model_runs(arch, size, item=Resize(480, method='squish'), accum=1, epochs=1, logical_batch_size=64):\n",
    "    before_mb = report_and_free_gpu()\n",
    "    dls = ImageDataLoaders.from_folder(\n",
    "        trn_path,\n",
    "        valid_pct=0.2,\n",
    "        item_tfms=item,\n",
    "        batch_tfms=aug_transforms(size=size, min_scale=0.75),\n",
    "        bs = logical_batch_size // accum\n",
    "    )\n",
    "    callbacks = GradientAccumulation(logical_batch_size) if accum else []\n",
    "    learn = vision_learner(dls, arch, metrics=error_rate, cbs=callbacks).to_fp16()\n",
    "    learn.unfreeze()\n",
    "    learn.fit_one_cycle(epochs, LEARNING_RATE)\n",
    "    after_mb = report_and_free_gpu()\n",
    "    return (arch, size, before_mb, after_mb)"
   ]
  },
  {
   "cell_type": "markdown",
   "id": "1e606b05-3023-4050-a6ee-a094d11dbc45",
   "metadata": {},
   "source": [
    "## Explore effect of accum on convnext_small"
   ]
  },
  {
   "cell_type": "code",
   "execution_count": 19,
   "id": "5dfca15f-784b-42da-8dcd-8d49e99cd6b7",
   "metadata": {},
   "outputs": [
    {
     "data": {
      "text/html": [
       "\n",
       "<style>\n",
       "    /* Turns off some styling */\n",
       "    progress {\n",
       "        /* gets rid of default border in Firefox and Opera. */\n",
       "        border: none;\n",
       "        /* Needs to be in here for Safari polyfill so background images work as expected. */\n",
       "        background-size: auto;\n",
       "    }\n",
       "    progress:not([value]), progress:not([value])::-webkit-progress-bar {\n",
       "        background: repeating-linear-gradient(45deg, #7e7e7e, #7e7e7e 10px, #5c5c5c 10px, #5c5c5c 20px);\n",
       "    }\n",
       "    .progress-bar-interrupted, .progress-bar-interrupted::-webkit-progress-bar {\n",
       "        background: #F44336;\n",
       "    }\n",
       "</style>\n"
      ],
      "text/plain": [
       "<IPython.core.display.HTML object>"
      ]
     },
     "metadata": {},
     "output_type": "display_data"
    },
    {
     "data": {
      "text/html": [
       "<table border=\"1\" class=\"dataframe\">\n",
       "  <thead>\n",
       "    <tr style=\"text-align: left;\">\n",
       "      <th>epoch</th>\n",
       "      <th>train_loss</th>\n",
       "      <th>valid_loss</th>\n",
       "      <th>error_rate</th>\n",
       "      <th>time</th>\n",
       "    </tr>\n",
       "  </thead>\n",
       "  <tbody>\n",
       "    <tr>\n",
       "      <td>0</td>\n",
       "      <td>0.000000</td>\n",
       "      <td>0.000000</td>\n",
       "      <td>0.000000</td>\n",
       "      <td>00:04</td>\n",
       "    </tr>\n",
       "  </tbody>\n",
       "</table>"
      ],
      "text/plain": [
       "<IPython.core.display.HTML object>"
      ]
     },
     "metadata": {},
     "output_type": "display_data"
    },
    {
     "data": {
      "text/plain": [
       "('convnext_small_in22k', 128, 0, 4268)"
      ]
     },
     "execution_count": 19,
     "metadata": {},
     "output_type": "execute_result"
    }
   ],
   "source": [
    "check_model_runs('convnext_small_in22k', 128, accum=1)"
   ]
  },
  {
   "cell_type": "code",
   "execution_count": 20,
   "id": "975db469-4c1c-40e1-a050-3801b1afcb6f",
   "metadata": {},
   "outputs": [],
   "source": [
    "#results on papersapce:\n",
    "#process    2598611 uses     4268.000 MB GPU memory"
   ]
  },
  {
   "cell_type": "code",
   "execution_count": 21,
   "id": "9d1875e8-8e11-4ab7-8840-710ee98ef349",
   "metadata": {},
   "outputs": [
    {
     "data": {
      "text/html": [
       "\n",
       "<style>\n",
       "    /* Turns off some styling */\n",
       "    progress {\n",
       "        /* gets rid of default border in Firefox and Opera. */\n",
       "        border: none;\n",
       "        /* Needs to be in here for Safari polyfill so background images work as expected. */\n",
       "        background-size: auto;\n",
       "    }\n",
       "    progress:not([value]), progress:not([value])::-webkit-progress-bar {\n",
       "        background: repeating-linear-gradient(45deg, #7e7e7e, #7e7e7e 10px, #5c5c5c 10px, #5c5c5c 20px);\n",
       "    }\n",
       "    .progress-bar-interrupted, .progress-bar-interrupted::-webkit-progress-bar {\n",
       "        background: #F44336;\n",
       "    }\n",
       "</style>\n"
      ],
      "text/plain": [
       "<IPython.core.display.HTML object>"
      ]
     },
     "metadata": {},
     "output_type": "display_data"
    },
    {
     "data": {
      "text/html": [
       "<table border=\"1\" class=\"dataframe\">\n",
       "  <thead>\n",
       "    <tr style=\"text-align: left;\">\n",
       "      <th>epoch</th>\n",
       "      <th>train_loss</th>\n",
       "      <th>valid_loss</th>\n",
       "      <th>error_rate</th>\n",
       "      <th>time</th>\n",
       "    </tr>\n",
       "  </thead>\n",
       "  <tbody>\n",
       "    <tr>\n",
       "      <td>0</td>\n",
       "      <td>0.000000</td>\n",
       "      <td>0.000000</td>\n",
       "      <td>0.000000</td>\n",
       "      <td>00:03</td>\n",
       "    </tr>\n",
       "  </tbody>\n",
       "</table>"
      ],
      "text/plain": [
       "<IPython.core.display.HTML object>"
      ]
     },
     "metadata": {},
     "output_type": "display_data"
    },
    {
     "data": {
      "text/plain": [
       "('convnext_small_in22k', 128, 2364, 3188)"
      ]
     },
     "execution_count": 21,
     "metadata": {},
     "output_type": "execute_result"
    }
   ],
   "source": [
    "check_model_runs('convnext_small_in22k', 128, accum=2)"
   ]
  },
  {
   "cell_type": "code",
   "execution_count": 22,
   "id": "a252c1be-8a00-4147-a056-54e36bc2ac36",
   "metadata": {},
   "outputs": [],
   "source": [
    "#results on papersapce:\n",
    "#process    2598611 uses     3188.000 MB GPU memory"
   ]
  },
  {
   "cell_type": "code",
   "execution_count": 23,
   "id": "9c2785ad-fa66-4cb4-8490-deb71e6dba68",
   "metadata": {},
   "outputs": [
    {
     "data": {
      "text/html": [
       "\n",
       "<style>\n",
       "    /* Turns off some styling */\n",
       "    progress {\n",
       "        /* gets rid of default border in Firefox and Opera. */\n",
       "        border: none;\n",
       "        /* Needs to be in here for Safari polyfill so background images work as expected. */\n",
       "        background-size: auto;\n",
       "    }\n",
       "    progress:not([value]), progress:not([value])::-webkit-progress-bar {\n",
       "        background: repeating-linear-gradient(45deg, #7e7e7e, #7e7e7e 10px, #5c5c5c 10px, #5c5c5c 20px);\n",
       "    }\n",
       "    .progress-bar-interrupted, .progress-bar-interrupted::-webkit-progress-bar {\n",
       "        background: #F44336;\n",
       "    }\n",
       "</style>\n"
      ],
      "text/plain": [
       "<IPython.core.display.HTML object>"
      ]
     },
     "metadata": {},
     "output_type": "display_data"
    },
    {
     "data": {
      "text/html": [
       "<table border=\"1\" class=\"dataframe\">\n",
       "  <thead>\n",
       "    <tr style=\"text-align: left;\">\n",
       "      <th>epoch</th>\n",
       "      <th>train_loss</th>\n",
       "      <th>valid_loss</th>\n",
       "      <th>error_rate</th>\n",
       "      <th>time</th>\n",
       "    </tr>\n",
       "  </thead>\n",
       "  <tbody>\n",
       "    <tr>\n",
       "      <td>0</td>\n",
       "      <td>0.000000</td>\n",
       "      <td>0.000000</td>\n",
       "      <td>0.000000</td>\n",
       "      <td>00:03</td>\n",
       "    </tr>\n",
       "    <tr>\n",
       "      <td>1</td>\n",
       "      <td>0.000000</td>\n",
       "      <td>0.000000</td>\n",
       "      <td>0.000000</td>\n",
       "      <td>00:03</td>\n",
       "    </tr>\n",
       "    <tr>\n",
       "      <td>2</td>\n",
       "      <td>0.000000</td>\n",
       "      <td>0.000000</td>\n",
       "      <td>0.000000</td>\n",
       "      <td>00:03</td>\n",
       "    </tr>\n",
       "    <tr>\n",
       "      <td>3</td>\n",
       "      <td>0.000000</td>\n",
       "      <td>0.000000</td>\n",
       "      <td>0.000000</td>\n",
       "      <td>00:03</td>\n",
       "    </tr>\n",
       "  </tbody>\n",
       "</table>"
      ],
      "text/plain": [
       "<IPython.core.display.HTML object>"
      ]
     },
     "metadata": {},
     "output_type": "display_data"
    },
    {
     "data": {
      "text/plain": [
       "('convnext_small_in22k', 128, 2096, 3188)"
      ]
     },
     "execution_count": 23,
     "metadata": {},
     "output_type": "execute_result"
    }
   ],
   "source": [
    "# increasing number of epochs shouldn't change results\n",
    "check_model_runs('convnext_small_in22k', 128, accum=2, epochs=4)"
   ]
  },
  {
   "cell_type": "code",
   "execution_count": 24,
   "id": "4e2e9026-1f99-4647-8644-c94fea8d4102",
   "metadata": {},
   "outputs": [],
   "source": [
    "#results on papersapce:\n",
    "#process    2598611 uses     3188.000 MB GPU memory"
   ]
  },
  {
   "cell_type": "code",
   "execution_count": 25,
   "id": "3881a7aa-143e-4c93-a811-611a34ba1524",
   "metadata": {},
   "outputs": [
    {
     "data": {
      "text/html": [
       "\n",
       "<style>\n",
       "    /* Turns off some styling */\n",
       "    progress {\n",
       "        /* gets rid of default border in Firefox and Opera. */\n",
       "        border: none;\n",
       "        /* Needs to be in here for Safari polyfill so background images work as expected. */\n",
       "        background-size: auto;\n",
       "    }\n",
       "    progress:not([value]), progress:not([value])::-webkit-progress-bar {\n",
       "        background: repeating-linear-gradient(45deg, #7e7e7e, #7e7e7e 10px, #5c5c5c 10px, #5c5c5c 20px);\n",
       "    }\n",
       "    .progress-bar-interrupted, .progress-bar-interrupted::-webkit-progress-bar {\n",
       "        background: #F44336;\n",
       "    }\n",
       "</style>\n"
      ],
      "text/plain": [
       "<IPython.core.display.HTML object>"
      ]
     },
     "metadata": {},
     "output_type": "display_data"
    },
    {
     "data": {
      "text/html": [
       "<table border=\"1\" class=\"dataframe\">\n",
       "  <thead>\n",
       "    <tr style=\"text-align: left;\">\n",
       "      <th>epoch</th>\n",
       "      <th>train_loss</th>\n",
       "      <th>valid_loss</th>\n",
       "      <th>error_rate</th>\n",
       "      <th>time</th>\n",
       "    </tr>\n",
       "  </thead>\n",
       "  <tbody>\n",
       "    <tr>\n",
       "      <td>0</td>\n",
       "      <td>0.000000</td>\n",
       "      <td>0.000000</td>\n",
       "      <td>0.000000</td>\n",
       "      <td>00:04</td>\n",
       "    </tr>\n",
       "  </tbody>\n",
       "</table>"
      ],
      "text/plain": [
       "<IPython.core.display.HTML object>"
      ]
     },
     "metadata": {},
     "output_type": "display_data"
    },
    {
     "data": {
      "text/plain": [
       "('convnext_small_in22k', 128, 2096, 2670)"
      ]
     },
     "execution_count": 25,
     "metadata": {},
     "output_type": "execute_result"
    }
   ],
   "source": [
    "check_model_runs('convnext_small_in22k', 128, accum=4)"
   ]
  },
  {
   "cell_type": "code",
   "execution_count": 26,
   "id": "68af83e4-8a1c-4373-9285-bd596932f53b",
   "metadata": {},
   "outputs": [],
   "source": [
    "#results on papersapce:\n",
    "#process    2598611 uses     2670.000 MB GPU memory"
   ]
  },
  {
   "cell_type": "markdown",
   "id": "b295eaac-5e81-46ed-bb27-a854fa48a2dc",
   "metadata": {},
   "source": [
    "## Manually check accum size to fit larger models"
   ]
  },
  {
   "cell_type": "markdown",
   "id": "12ab7c26-ed15-412e-816b-4019a94d3865",
   "metadata": {},
   "source": [
    "Start by calling train with accum=1 and increase it until it completes without errors"
   ]
  },
  {
   "cell_type": "markdown",
   "id": "c87ffb44-49a6-4369-9a96-b2356116bcaf",
   "metadata": {},
   "source": [
    "### model: convnext_large_in22k"
   ]
  },
  {
   "cell_type": "code",
   "execution_count": 27,
   "id": "83582be5-9edc-472b-95d7-8a15d799299d",
   "metadata": {},
   "outputs": [
    {
     "data": {
      "text/html": [
       "\n",
       "<style>\n",
       "    /* Turns off some styling */\n",
       "    progress {\n",
       "        /* gets rid of default border in Firefox and Opera. */\n",
       "        border: none;\n",
       "        /* Needs to be in here for Safari polyfill so background images work as expected. */\n",
       "        background-size: auto;\n",
       "    }\n",
       "    progress:not([value]), progress:not([value])::-webkit-progress-bar {\n",
       "        background: repeating-linear-gradient(45deg, #7e7e7e, #7e7e7e 10px, #5c5c5c 10px, #5c5c5c 20px);\n",
       "    }\n",
       "    .progress-bar-interrupted, .progress-bar-interrupted::-webkit-progress-bar {\n",
       "        background: #F44336;\n",
       "    }\n",
       "</style>\n"
      ],
      "text/plain": [
       "<IPython.core.display.HTML object>"
      ]
     },
     "metadata": {},
     "output_type": "display_data"
    },
    {
     "data": {
      "text/html": [
       "<table border=\"1\" class=\"dataframe\">\n",
       "  <thead>\n",
       "    <tr style=\"text-align: left;\">\n",
       "      <th>epoch</th>\n",
       "      <th>train_loss</th>\n",
       "      <th>valid_loss</th>\n",
       "      <th>error_rate</th>\n",
       "      <th>time</th>\n",
       "    </tr>\n",
       "  </thead>\n",
       "  <tbody>\n",
       "    <tr>\n",
       "      <td>0</td>\n",
       "      <td>0.000000</td>\n",
       "      <td>0.000000</td>\n",
       "      <td>0.000000</td>\n",
       "      <td>00:05</td>\n",
       "    </tr>\n",
       "  </tbody>\n",
       "</table>"
      ],
      "text/plain": [
       "<IPython.core.display.HTML object>"
      ]
     },
     "metadata": {},
     "output_type": "display_data"
    },
    {
     "data": {
      "text/plain": [
       "('convnext_large_in22k', 224, 2124, 11082)"
      ]
     },
     "execution_count": 27,
     "metadata": {},
     "output_type": "execute_result"
    }
   ],
   "source": [
    "check_model_runs('convnext_large_in22k', 224, accum=2)"
   ]
  },
  {
   "cell_type": "code",
   "execution_count": 28,
   "id": "b489779a-0d92-4e08-b7f7-4f69bb54c508",
   "metadata": {},
   "outputs": [],
   "source": [
    "# size x accum\n",
    "# 480 x 5\n",
    "# process    2694520 uses    15334.000 MB GPU memory\n",
    "# 224 x 4\n",
    "# process    2694520 uses     8086.000 MB GPU memory\n",
    "# 224 x 2 \n",
    "# process    2694520 uses    11082.000 MB GPU memory\n",
    "# (320,240) x 2 \n",
    "#process    2694520 uses    14426.000 MB GPU memory\n",
    "# -> we need to adjust image siza and accum parameters to fit into memory"
   ]
  },
  {
   "cell_type": "code",
   "execution_count": 29,
   "id": "d291f887-651d-4b2d-a625-d714e308c245",
   "metadata": {},
   "outputs": [
    {
     "data": {
      "text/html": [
       "\n",
       "<style>\n",
       "    /* Turns off some styling */\n",
       "    progress {\n",
       "        /* gets rid of default border in Firefox and Opera. */\n",
       "        border: none;\n",
       "        /* Needs to be in here for Safari polyfill so background images work as expected. */\n",
       "        background-size: auto;\n",
       "    }\n",
       "    progress:not([value]), progress:not([value])::-webkit-progress-bar {\n",
       "        background: repeating-linear-gradient(45deg, #7e7e7e, #7e7e7e 10px, #5c5c5c 10px, #5c5c5c 20px);\n",
       "    }\n",
       "    .progress-bar-interrupted, .progress-bar-interrupted::-webkit-progress-bar {\n",
       "        background: #F44336;\n",
       "    }\n",
       "</style>\n"
      ],
      "text/plain": [
       "<IPython.core.display.HTML object>"
      ]
     },
     "metadata": {},
     "output_type": "display_data"
    },
    {
     "data": {
      "text/html": [
       "<table border=\"1\" class=\"dataframe\">\n",
       "  <thead>\n",
       "    <tr style=\"text-align: left;\">\n",
       "      <th>epoch</th>\n",
       "      <th>train_loss</th>\n",
       "      <th>valid_loss</th>\n",
       "      <th>error_rate</th>\n",
       "      <th>time</th>\n",
       "    </tr>\n",
       "  </thead>\n",
       "  <tbody>\n",
       "    <tr>\n",
       "      <td>0</td>\n",
       "      <td>0.000000</td>\n",
       "      <td>0.000000</td>\n",
       "      <td>0.000000</td>\n",
       "      <td>00:06</td>\n",
       "    </tr>\n",
       "  </tbody>\n",
       "</table>"
      ],
      "text/plain": [
       "<IPython.core.display.HTML object>"
      ]
     },
     "metadata": {},
     "output_type": "display_data"
    },
    {
     "data": {
      "text/plain": [
       "('convnext_large_in22k', (320, 240), 4644, 14426)"
      ]
     },
     "execution_count": 29,
     "metadata": {},
     "output_type": "execute_result"
    }
   ],
   "source": [
    "check_model_runs('convnext_large_in22k', (320, 240), accum=2)"
   ]
  },
  {
   "cell_type": "markdown",
   "id": "b2ad8176-196f-4dda-9f3e-7d950d92e178",
   "metadata": {},
   "source": [
    "### model:vit_large_patch16_224"
   ]
  },
  {
   "cell_type": "code",
   "execution_count": 30,
   "id": "2f1fe079-a566-47cc-b527-f8c93b278b57",
   "metadata": {},
   "outputs": [
    {
     "data": {
      "text/html": [
       "\n",
       "<style>\n",
       "    /* Turns off some styling */\n",
       "    progress {\n",
       "        /* gets rid of default border in Firefox and Opera. */\n",
       "        border: none;\n",
       "        /* Needs to be in here for Safari polyfill so background images work as expected. */\n",
       "        background-size: auto;\n",
       "    }\n",
       "    progress:not([value]), progress:not([value])::-webkit-progress-bar {\n",
       "        background: repeating-linear-gradient(45deg, #7e7e7e, #7e7e7e 10px, #5c5c5c 10px, #5c5c5c 20px);\n",
       "    }\n",
       "    .progress-bar-interrupted, .progress-bar-interrupted::-webkit-progress-bar {\n",
       "        background: #F44336;\n",
       "    }\n",
       "</style>\n"
      ],
      "text/plain": [
       "<IPython.core.display.HTML object>"
      ]
     },
     "metadata": {},
     "output_type": "display_data"
    },
    {
     "data": {
      "text/html": [
       "<table border=\"1\" class=\"dataframe\">\n",
       "  <thead>\n",
       "    <tr style=\"text-align: left;\">\n",
       "      <th>epoch</th>\n",
       "      <th>train_loss</th>\n",
       "      <th>valid_loss</th>\n",
       "      <th>error_rate</th>\n",
       "      <th>time</th>\n",
       "    </tr>\n",
       "  </thead>\n",
       "  <tbody>\n",
       "    <tr>\n",
       "      <td>0</td>\n",
       "      <td>0.000000</td>\n",
       "      <td>0.000000</td>\n",
       "      <td>0.000000</td>\n",
       "      <td>00:06</td>\n",
       "    </tr>\n",
       "  </tbody>\n",
       "</table>"
      ],
      "text/plain": [
       "<IPython.core.display.HTML object>"
      ]
     },
     "metadata": {},
     "output_type": "display_data"
    },
    {
     "data": {
      "text/plain": [
       "('vit_large_patch16_224', 224, 5126, 15344)"
      ]
     },
     "execution_count": 30,
     "metadata": {},
     "output_type": "execute_result"
    }
   ],
   "source": [
    "# trying to run this model with size differnt from 224 fails with assertion error because\n",
    "# it doesn't support custom image size\n",
    "check_model_runs('vit_large_patch16_224', 224, accum=2)"
   ]
  },
  {
   "cell_type": "code",
   "execution_count": 31,
   "id": "158bee6c-5822-46fa-adae-54661bb3b761",
   "metadata": {},
   "outputs": [],
   "source": [
    "# 224 x 4\n",
    "# process    2729516 uses    11232.000 MB GPU memory\n",
    "# 224 x 3 \n",
    "# process    2729516 uses    12432.000 MB GPU memory\n",
    "# 224 x 2 \n",
    "# process    2729516 uses    15344.000 MB GPU memory"
   ]
  },
  {
   "cell_type": "markdown",
   "id": "4d82f05f-376a-4dd4-9ab1-31abf400739f",
   "metadata": {},
   "source": [
    "### model:swinv2_large_window12_192.ms_in22k"
   ]
  },
  {
   "cell_type": "code",
   "execution_count": 32,
   "id": "d6da492b-3d03-46c0-8641-3f15676bf60a",
   "metadata": {},
   "outputs": [
    {
     "data": {
      "text/plain": [
       "6570"
      ]
     },
     "execution_count": 32,
     "metadata": {},
     "output_type": "execute_result"
    }
   ],
   "source": [
    "report_and_free_gpu()"
   ]
  },
  {
   "cell_type": "code",
   "execution_count": 33,
   "id": "282071bd-8175-478a-a095-45ae1da1eda1",
   "metadata": {},
   "outputs": [
    {
     "name": "stderr",
     "output_type": "stream",
     "text": [
      "/usr/local/lib/python3.9/dist-packages/torch/functional.py:478: UserWarning: torch.meshgrid: in an upcoming release, it will be required to pass the indexing argument. (Triggered internally at  ../aten/src/ATen/native/TensorShape.cpp:2894.)\n",
      "  return _VF.meshgrid(tensors, **kwargs)  # type: ignore[attr-defined]\n"
     ]
    },
    {
     "data": {
      "text/html": [
       "\n",
       "<style>\n",
       "    /* Turns off some styling */\n",
       "    progress {\n",
       "        /* gets rid of default border in Firefox and Opera. */\n",
       "        border: none;\n",
       "        /* Needs to be in here for Safari polyfill so background images work as expected. */\n",
       "        background-size: auto;\n",
       "    }\n",
       "    progress:not([value]), progress:not([value])::-webkit-progress-bar {\n",
       "        background: repeating-linear-gradient(45deg, #7e7e7e, #7e7e7e 10px, #5c5c5c 10px, #5c5c5c 20px);\n",
       "    }\n",
       "    .progress-bar-interrupted, .progress-bar-interrupted::-webkit-progress-bar {\n",
       "        background: #F44336;\n",
       "    }\n",
       "</style>\n"
      ],
      "text/plain": [
       "<IPython.core.display.HTML object>"
      ]
     },
     "metadata": {},
     "output_type": "display_data"
    },
    {
     "data": {
      "text/html": [
       "<table border=\"1\" class=\"dataframe\">\n",
       "  <thead>\n",
       "    <tr style=\"text-align: left;\">\n",
       "      <th>epoch</th>\n",
       "      <th>train_loss</th>\n",
       "      <th>valid_loss</th>\n",
       "      <th>error_rate</th>\n",
       "      <th>time</th>\n",
       "    </tr>\n",
       "  </thead>\n",
       "  <tbody>\n",
       "    <tr>\n",
       "      <td>0</td>\n",
       "      <td>0.000000</td>\n",
       "      <td>0.000000</td>\n",
       "      <td>0.000000</td>\n",
       "      <td>00:06</td>\n",
       "    </tr>\n",
       "  </tbody>\n",
       "</table>"
      ],
      "text/plain": [
       "<IPython.core.display.HTML object>"
      ]
     },
     "metadata": {},
     "output_type": "display_data"
    },
    {
     "data": {
      "text/plain": [
       "('swinv2_large_window12_192_22k', 192, 1210, 13528)"
      ]
     },
     "execution_count": 33,
     "metadata": {},
     "output_type": "execute_result"
    }
   ],
   "source": [
    "# this model expects image of a fixed size (192, 192)\n",
    "# I need to downgrade timm to 0.6.13 to make it work\n",
    "check_model_runs('swinv2_large_window12_192_22k', 192, accum=2)"
   ]
  },
  {
   "cell_type": "markdown",
   "id": "bd32b5aa-9f5f-4dcf-bfc5-50e00a51d7f6",
   "metadata": {},
   "source": [
    "### model: swin_large_patch4_window7_224"
   ]
  },
  {
   "cell_type": "code",
   "execution_count": 34,
   "id": "b0294348-624b-4030-860f-7e6e7749cfcc",
   "metadata": {},
   "outputs": [
    {
     "data": {
      "text/html": [
       "\n",
       "<style>\n",
       "    /* Turns off some styling */\n",
       "    progress {\n",
       "        /* gets rid of default border in Firefox and Opera. */\n",
       "        border: none;\n",
       "        /* Needs to be in here for Safari polyfill so background images work as expected. */\n",
       "        background-size: auto;\n",
       "    }\n",
       "    progress:not([value]), progress:not([value])::-webkit-progress-bar {\n",
       "        background: repeating-linear-gradient(45deg, #7e7e7e, #7e7e7e 10px, #5c5c5c 10px, #5c5c5c 20px);\n",
       "    }\n",
       "    .progress-bar-interrupted, .progress-bar-interrupted::-webkit-progress-bar {\n",
       "        background: #F44336;\n",
       "    }\n",
       "</style>\n"
      ],
      "text/plain": [
       "<IPython.core.display.HTML object>"
      ]
     },
     "metadata": {},
     "output_type": "display_data"
    },
    {
     "data": {
      "text/html": [
       "<table border=\"1\" class=\"dataframe\">\n",
       "  <thead>\n",
       "    <tr style=\"text-align: left;\">\n",
       "      <th>epoch</th>\n",
       "      <th>train_loss</th>\n",
       "      <th>valid_loss</th>\n",
       "      <th>error_rate</th>\n",
       "      <th>time</th>\n",
       "    </tr>\n",
       "  </thead>\n",
       "  <tbody>\n",
       "    <tr>\n",
       "      <td>0</td>\n",
       "      <td>0.000000</td>\n",
       "      <td>0.000000</td>\n",
       "      <td>0.000000</td>\n",
       "      <td>00:06</td>\n",
       "    </tr>\n",
       "  </tbody>\n",
       "</table>"
      ],
      "text/plain": [
       "<IPython.core.display.HTML object>"
      ]
     },
     "metadata": {},
     "output_type": "display_data"
    },
    {
     "data": {
      "text/plain": [
       "('swin_large_patch4_window7_224', 224, 4696, 11934)"
      ]
     },
     "execution_count": 34,
     "metadata": {},
     "output_type": "execute_result"
    }
   ],
   "source": [
    "check_model_runs('swin_large_patch4_window7_224', 224, accum=2)"
   ]
  },
  {
   "cell_type": "code",
   "execution_count": 35,
   "id": "272db524-bfd9-45bd-a88e-9b25892db9e0",
   "metadata": {},
   "outputs": [],
   "source": [
    "#224 x 2\n",
    "#process    2759986 uses    11934.000 MB GPU memory"
   ]
  },
  {
   "cell_type": "code",
   "execution_count": 36,
   "id": "79e6ef8f-f3d7-48d8-a5c1-f20b6358eed7",
   "metadata": {},
   "outputs": [],
   "source": [
    "models_of_interest = [\n",
    "    (\"convnext_large_in22k\",         (320,240), 2),\n",
    "    (\"vit_large_patch16_224\",         224,      2),\n",
    "    (\"swinv2_large_window12_192_22k\", 192,      2),\n",
    "    (\"swin_large_patch4_window7_224\", 224,      2),\n",
    "]"
   ]
  }
 ],
 "metadata": {
  "kernelspec": {
   "display_name": "Python 3 (ipykernel)",
   "language": "python",
   "name": "python3"
  },
  "language_info": {
   "codemirror_mode": {
    "name": "ipython",
    "version": 3
   },
   "file_extension": ".py",
   "mimetype": "text/x-python",
   "name": "python",
   "nbconvert_exporter": "python",
   "pygments_lexer": "ipython3",
   "version": "3.9.13"
  }
 },
 "nbformat": 4,
 "nbformat_minor": 5
}
